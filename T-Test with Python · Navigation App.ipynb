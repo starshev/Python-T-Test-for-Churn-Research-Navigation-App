{
 "cells": [
  {
   "cell_type": "markdown",
   "id": "d6d506ac",
   "metadata": {},
   "source": [
    "# T-Test with Python · Navigation App"
   ]
  },
  {
   "cell_type": "markdown",
   "id": "ac107968",
   "metadata": {},
   "source": [
    "Completed by [Anton Starshev](http://linkedin.com/in/starshev) on 18/04/2024"
   ]
  },
  {
   "cell_type": "markdown",
   "id": "65f80e5a",
   "metadata": {},
   "source": [
    "### Context\n",
    "\n",
    "According to the fictional project scenario, I am working as a data professional in Waze, a free navigation app that makes it easier for drivers around the world to get to where they want to go. \n",
    "\n",
    "Waze’s data team is working on the churn project. An intermediate request from leadership has emerged: to analyze the relationship between mean amount of rides and device type. Specifically, leadership seeks to ascertain if there is a statistically significant difference in the mean number of rides between iPhone® and Android™ users."
   ]
  },
  {
   "cell_type": "markdown",
   "id": "78380cef",
   "metadata": {},
   "source": [
    "### Data\n",
    "\n",
    "This project uses a dataset called **waze_dataset.csv**. It contains synthetic data created for this project in partnership with Waze."
   ]
  },
  {
   "cell_type": "markdown",
   "id": "2f2d65af",
   "metadata": {},
   "source": [
    "### Execution\n",
    "\n",
    "Starting my project, I divided the execution process into four key phases to carry them out step by step:\n",
    "\n",
    "1. Importing necessary Python packages and loading the dataset\n",
    "2. Performing Exploratory Data Analysis (EDA) and computing descriptive statistics\n",
    "3. Conducting hypothesis testing\n",
    "4. Formulating business insights and recommendations"
   ]
  },
  {
   "cell_type": "markdown",
   "id": "61212d80",
   "metadata": {},
   "source": [
    "### 1 · Data Loading"
   ]
  },
  {
   "cell_type": "markdown",
   "id": "173ef363",
   "metadata": {},
   "source": [
    "Imported packages and libraries needed to compute descriptive statistics and conduct a hypothesis test."
   ]
  },
  {
   "cell_type": "code",
   "execution_count": 1,
   "id": "7ae300db",
   "metadata": {},
   "outputs": [],
   "source": [
    "import pandas as pd\n",
    "from scipy import stats"
   ]
  },
  {
   "cell_type": "markdown",
   "id": "dd44ddf9",
   "metadata": {},
   "source": [
    "Loaded the scenario dataset into a DataFrame."
   ]
  },
  {
   "cell_type": "code",
   "execution_count": 6,
   "id": "5d78e24f",
   "metadata": {},
   "outputs": [],
   "source": [
    "df = pd.read_csv(\"waze_dataset.csv\", index_col = 0)"
   ]
  },
  {
   "cell_type": "markdown",
   "id": "c49b7527",
   "metadata": {},
   "source": [
    "### 2 · Data Exploration"
   ]
  },
  {
   "cell_type": "markdown",
   "id": "2b47d493",
   "metadata": {},
   "source": [
    "Previewed the loaded data."
   ]
  },
  {
   "cell_type": "code",
   "execution_count": 7,
   "id": "b569207d",
   "metadata": {},
   "outputs": [
    {
     "data": {
      "text/html": [
       "<div>\n",
       "<style scoped>\n",
       "    .dataframe tbody tr th:only-of-type {\n",
       "        vertical-align: middle;\n",
       "    }\n",
       "\n",
       "    .dataframe tbody tr th {\n",
       "        vertical-align: top;\n",
       "    }\n",
       "\n",
       "    .dataframe thead th {\n",
       "        text-align: right;\n",
       "    }\n",
       "</style>\n",
       "<table border=\"1\" class=\"dataframe\">\n",
       "  <thead>\n",
       "    <tr style=\"text-align: right;\">\n",
       "      <th></th>\n",
       "      <th>label</th>\n",
       "      <th>sessions</th>\n",
       "      <th>drives</th>\n",
       "      <th>total_sessions</th>\n",
       "      <th>n_days_after_onboarding</th>\n",
       "      <th>total_navigations_fav1</th>\n",
       "      <th>total_navigations_fav2</th>\n",
       "      <th>driven_km_drives</th>\n",
       "      <th>duration_minutes_drives</th>\n",
       "      <th>activity_days</th>\n",
       "      <th>driving_days</th>\n",
       "      <th>device</th>\n",
       "    </tr>\n",
       "    <tr>\n",
       "      <th>ID</th>\n",
       "      <th></th>\n",
       "      <th></th>\n",
       "      <th></th>\n",
       "      <th></th>\n",
       "      <th></th>\n",
       "      <th></th>\n",
       "      <th></th>\n",
       "      <th></th>\n",
       "      <th></th>\n",
       "      <th></th>\n",
       "      <th></th>\n",
       "      <th></th>\n",
       "    </tr>\n",
       "  </thead>\n",
       "  <tbody>\n",
       "    <tr>\n",
       "      <th>0</th>\n",
       "      <td>retained</td>\n",
       "      <td>283</td>\n",
       "      <td>226</td>\n",
       "      <td>296.748273</td>\n",
       "      <td>2276</td>\n",
       "      <td>208</td>\n",
       "      <td>0</td>\n",
       "      <td>2628.845068</td>\n",
       "      <td>1985.775061</td>\n",
       "      <td>28</td>\n",
       "      <td>19</td>\n",
       "      <td>Android</td>\n",
       "    </tr>\n",
       "    <tr>\n",
       "      <th>1</th>\n",
       "      <td>retained</td>\n",
       "      <td>133</td>\n",
       "      <td>107</td>\n",
       "      <td>326.896596</td>\n",
       "      <td>1225</td>\n",
       "      <td>19</td>\n",
       "      <td>64</td>\n",
       "      <td>13715.920550</td>\n",
       "      <td>3160.472914</td>\n",
       "      <td>13</td>\n",
       "      <td>11</td>\n",
       "      <td>iPhone</td>\n",
       "    </tr>\n",
       "    <tr>\n",
       "      <th>2</th>\n",
       "      <td>retained</td>\n",
       "      <td>114</td>\n",
       "      <td>95</td>\n",
       "      <td>135.522926</td>\n",
       "      <td>2651</td>\n",
       "      <td>0</td>\n",
       "      <td>0</td>\n",
       "      <td>3059.148818</td>\n",
       "      <td>1610.735904</td>\n",
       "      <td>14</td>\n",
       "      <td>8</td>\n",
       "      <td>Android</td>\n",
       "    </tr>\n",
       "    <tr>\n",
       "      <th>3</th>\n",
       "      <td>retained</td>\n",
       "      <td>49</td>\n",
       "      <td>40</td>\n",
       "      <td>67.589221</td>\n",
       "      <td>15</td>\n",
       "      <td>322</td>\n",
       "      <td>7</td>\n",
       "      <td>913.591123</td>\n",
       "      <td>587.196542</td>\n",
       "      <td>7</td>\n",
       "      <td>3</td>\n",
       "      <td>iPhone</td>\n",
       "    </tr>\n",
       "    <tr>\n",
       "      <th>4</th>\n",
       "      <td>retained</td>\n",
       "      <td>84</td>\n",
       "      <td>68</td>\n",
       "      <td>168.247020</td>\n",
       "      <td>1562</td>\n",
       "      <td>166</td>\n",
       "      <td>5</td>\n",
       "      <td>3950.202008</td>\n",
       "      <td>1219.555924</td>\n",
       "      <td>27</td>\n",
       "      <td>18</td>\n",
       "      <td>Android</td>\n",
       "    </tr>\n",
       "  </tbody>\n",
       "</table>\n",
       "</div>"
      ],
      "text/plain": [
       "       label  sessions  drives  total_sessions  n_days_after_onboarding  \\\n",
       "ID                                                                        \n",
       "0   retained       283     226      296.748273                     2276   \n",
       "1   retained       133     107      326.896596                     1225   \n",
       "2   retained       114      95      135.522926                     2651   \n",
       "3   retained        49      40       67.589221                       15   \n",
       "4   retained        84      68      168.247020                     1562   \n",
       "\n",
       "    total_navigations_fav1  total_navigations_fav2  driven_km_drives  \\\n",
       "ID                                                                     \n",
       "0                      208                       0       2628.845068   \n",
       "1                       19                      64      13715.920550   \n",
       "2                        0                       0       3059.148818   \n",
       "3                      322                       7        913.591123   \n",
       "4                      166                       5       3950.202008   \n",
       "\n",
       "    duration_minutes_drives  activity_days  driving_days   device  \n",
       "ID                                                                 \n",
       "0               1985.775061             28            19  Android  \n",
       "1               3160.472914             13            11   iPhone  \n",
       "2               1610.735904             14             8  Android  \n",
       "3                587.196542              7             3   iPhone  \n",
       "4               1219.555924             27            18  Android  "
      ]
     },
     "execution_count": 7,
     "metadata": {},
     "output_type": "execute_result"
    }
   ],
   "source": [
    "df.head()"
   ]
  },
  {
   "cell_type": "markdown",
   "id": "447fad93",
   "metadata": {},
   "source": [
    "Checked the data size."
   ]
  },
  {
   "cell_type": "code",
   "execution_count": 8,
   "id": "308bfb86",
   "metadata": {},
   "outputs": [
    {
     "data": {
      "text/plain": [
       "(14999, 12)"
      ]
     },
     "execution_count": 8,
     "metadata": {},
     "output_type": "execute_result"
    }
   ],
   "source": [
    "df.shape"
   ]
  },
  {
   "cell_type": "markdown",
   "id": "58549904",
   "metadata": {},
   "source": [
    "Verified the data types and names of columns."
   ]
  },
  {
   "cell_type": "code",
   "execution_count": 9,
   "id": "9460db01",
   "metadata": {},
   "outputs": [
    {
     "data": {
      "text/plain": [
       "label                       object\n",
       "sessions                     int64\n",
       "drives                       int64\n",
       "total_sessions             float64\n",
       "n_days_after_onboarding      int64\n",
       "total_navigations_fav1       int64\n",
       "total_navigations_fav2       int64\n",
       "driven_km_drives           float64\n",
       "duration_minutes_drives    float64\n",
       "activity_days                int64\n",
       "driving_days                 int64\n",
       "device                      object\n",
       "dtype: object"
      ]
     },
     "execution_count": 9,
     "metadata": {},
     "output_type": "execute_result"
    }
   ],
   "source": [
    "df.dtypes"
   ]
  },
  {
   "cell_type": "markdown",
   "id": "916cc52b",
   "metadata": {},
   "source": [
    "Used descriptive statistics to conduct Exploratory Data Analysis (EDA) on the rides data."
   ]
  },
  {
   "cell_type": "code",
   "execution_count": 12,
   "id": "10f07c16",
   "metadata": {},
   "outputs": [
    {
     "data": {
      "text/html": [
       "<div>\n",
       "<style scoped>\n",
       "    .dataframe tbody tr th:only-of-type {\n",
       "        vertical-align: middle;\n",
       "    }\n",
       "\n",
       "    .dataframe tbody tr th {\n",
       "        vertical-align: top;\n",
       "    }\n",
       "\n",
       "    .dataframe thead th {\n",
       "        text-align: right;\n",
       "    }\n",
       "</style>\n",
       "<table border=\"1\" class=\"dataframe\">\n",
       "  <thead>\n",
       "    <tr style=\"text-align: right;\">\n",
       "      <th></th>\n",
       "      <th>drives</th>\n",
       "    </tr>\n",
       "  </thead>\n",
       "  <tbody>\n",
       "    <tr>\n",
       "      <th>count</th>\n",
       "      <td>14999.000000</td>\n",
       "    </tr>\n",
       "    <tr>\n",
       "      <th>mean</th>\n",
       "      <td>67.281152</td>\n",
       "    </tr>\n",
       "    <tr>\n",
       "      <th>std</th>\n",
       "      <td>65.913872</td>\n",
       "    </tr>\n",
       "    <tr>\n",
       "      <th>min</th>\n",
       "      <td>0.000000</td>\n",
       "    </tr>\n",
       "    <tr>\n",
       "      <th>25%</th>\n",
       "      <td>20.000000</td>\n",
       "    </tr>\n",
       "    <tr>\n",
       "      <th>50%</th>\n",
       "      <td>48.000000</td>\n",
       "    </tr>\n",
       "    <tr>\n",
       "      <th>75%</th>\n",
       "      <td>93.000000</td>\n",
       "    </tr>\n",
       "    <tr>\n",
       "      <th>max</th>\n",
       "      <td>596.000000</td>\n",
       "    </tr>\n",
       "  </tbody>\n",
       "</table>\n",
       "</div>"
      ],
      "text/plain": [
       "             drives\n",
       "count  14999.000000\n",
       "mean      67.281152\n",
       "std       65.913872\n",
       "min        0.000000\n",
       "25%       20.000000\n",
       "50%       48.000000\n",
       "75%       93.000000\n",
       "max      596.000000"
      ]
     },
     "execution_count": 12,
     "metadata": {},
     "output_type": "execute_result"
    }
   ],
   "source": [
    "df[['drives']].describe(include = 'all')"
   ]
  },
  {
   "cell_type": "markdown",
   "id": "569ee290",
   "metadata": {},
   "source": [
    "Exploring the relationship between device type and the number of rides customers take, one approach within the EDA was to examine the average ride count for each device type."
   ]
  },
  {
   "cell_type": "code",
   "execution_count": 13,
   "id": "d8558aa0",
   "metadata": {},
   "outputs": [
    {
     "data": {
      "text/html": [
       "<div>\n",
       "<style scoped>\n",
       "    .dataframe tbody tr th:only-of-type {\n",
       "        vertical-align: middle;\n",
       "    }\n",
       "\n",
       "    .dataframe tbody tr th {\n",
       "        vertical-align: top;\n",
       "    }\n",
       "\n",
       "    .dataframe thead th {\n",
       "        text-align: right;\n",
       "    }\n",
       "</style>\n",
       "<table border=\"1\" class=\"dataframe\">\n",
       "  <thead>\n",
       "    <tr style=\"text-align: right;\">\n",
       "      <th></th>\n",
       "      <th>drives</th>\n",
       "    </tr>\n",
       "    <tr>\n",
       "      <th>device</th>\n",
       "      <th></th>\n",
       "    </tr>\n",
       "  </thead>\n",
       "  <tbody>\n",
       "    <tr>\n",
       "      <th>Android</th>\n",
       "      <td>66.231838</td>\n",
       "    </tr>\n",
       "    <tr>\n",
       "      <th>iPhone</th>\n",
       "      <td>67.859078</td>\n",
       "    </tr>\n",
       "  </tbody>\n",
       "</table>\n",
       "</div>"
      ],
      "text/plain": [
       "            drives\n",
       "device            \n",
       "Android  66.231838\n",
       "iPhone   67.859078"
      ]
     },
     "execution_count": 13,
     "metadata": {},
     "output_type": "execute_result"
    }
   ],
   "source": [
    "df.groupby('device')[['drives']].mean()"
   ]
  },
  {
   "cell_type": "markdown",
   "id": "1848dbd8",
   "metadata": {},
   "source": [
    "**Observation**: Firstly, I have found that there are just two device categories.\n",
    "\n",
    "Secondly, based on my preliminary research analysis, iPhone users tend to take more rides on average than those who use Android. However, this difference could be due to sample variability. So, the next step was to check the statistical significance of this difference through hypothesis testing."
   ]
  },
  {
   "cell_type": "markdown",
   "id": "3a71c21a",
   "metadata": {},
   "source": [
    "### 3 · Hypothesis Test"
   ]
  },
  {
   "cell_type": "markdown",
   "id": "1f4c3382",
   "metadata": {},
   "source": [
    "Since one of the variables is categorical, as a first step, I mapped the device category into numerical values, assigning \"1\" to iPhone devices and \"2\" to Android devices. Additionally, I added a corresponding column \"device_type\" to the DataFrame for testing purposes."
   ]
  },
  {
   "cell_type": "code",
   "execution_count": 19,
   "id": "7fcc44d4",
   "metadata": {},
   "outputs": [
    {
     "data": {
      "text/html": [
       "<div>\n",
       "<style scoped>\n",
       "    .dataframe tbody tr th:only-of-type {\n",
       "        vertical-align: middle;\n",
       "    }\n",
       "\n",
       "    .dataframe tbody tr th {\n",
       "        vertical-align: top;\n",
       "    }\n",
       "\n",
       "    .dataframe thead th {\n",
       "        text-align: right;\n",
       "    }\n",
       "</style>\n",
       "<table border=\"1\" class=\"dataframe\">\n",
       "  <thead>\n",
       "    <tr style=\"text-align: right;\">\n",
       "      <th></th>\n",
       "      <th>device</th>\n",
       "      <th>device_type</th>\n",
       "    </tr>\n",
       "    <tr>\n",
       "      <th>ID</th>\n",
       "      <th></th>\n",
       "      <th></th>\n",
       "    </tr>\n",
       "  </thead>\n",
       "  <tbody>\n",
       "    <tr>\n",
       "      <th>0</th>\n",
       "      <td>Android</td>\n",
       "      <td>2</td>\n",
       "    </tr>\n",
       "    <tr>\n",
       "      <th>1</th>\n",
       "      <td>iPhone</td>\n",
       "      <td>1</td>\n",
       "    </tr>\n",
       "    <tr>\n",
       "      <th>2</th>\n",
       "      <td>Android</td>\n",
       "      <td>2</td>\n",
       "    </tr>\n",
       "    <tr>\n",
       "      <th>3</th>\n",
       "      <td>iPhone</td>\n",
       "      <td>1</td>\n",
       "    </tr>\n",
       "    <tr>\n",
       "      <th>4</th>\n",
       "      <td>Android</td>\n",
       "      <td>2</td>\n",
       "    </tr>\n",
       "  </tbody>\n",
       "</table>\n",
       "</div>"
      ],
      "text/plain": [
       "     device  device_type\n",
       "ID                      \n",
       "0   Android            2\n",
       "1    iPhone            1\n",
       "2   Android            2\n",
       "3    iPhone            1\n",
       "4   Android            2"
      ]
     },
     "execution_count": 19,
     "metadata": {},
     "output_type": "execute_result"
    }
   ],
   "source": [
    "device_map = {'Android' : 2, 'iPhone' : 1}\n",
    "\n",
    "df['device_type'] = df.device.map(device_map)\n",
    "\n",
    "df[['device','device_type']].head()"
   ]
  },
  {
   "cell_type": "markdown",
   "id": "92161d34",
   "metadata": {},
   "source": [
    "Stated the null hypothesis and the alternative hypothesis:\n",
    "\n",
    "**H<sub>0</sub>**: There is no difference in the average number of rides between clients who use iPhones and those who use Android devices.\n",
    "\n",
    "**H<sub>1</sub>**: There is a difference in the average number of rides between clients who use iPhones and those who use Android devices.\n",
    "\n",
    "Assigned a **5% significance level** to the hypothesis test.\n",
    "\n",
    "Determined the type of hypothesis testing: **two-sample two-tailed t-test**.\n",
    "\n",
    "Filtered the data into two groups based on the device type: iPhone or Android."
   ]
  },
  {
   "cell_type": "code",
   "execution_count": 15,
   "id": "0f00cfcf",
   "metadata": {},
   "outputs": [],
   "source": [
    "iphone_drives = df[df['device_type'] == 1].drives\n",
    "\n",
    "android_drives = df[df['device_type'] == 2].drives"
   ]
  },
  {
   "cell_type": "markdown",
   "id": "7fac2d1a",
   "metadata": {},
   "source": [
    "Conducted the hypothesis test using SciPy Stats."
   ]
  },
  {
   "cell_type": "code",
   "execution_count": 20,
   "id": "e1cfdcef",
   "metadata": {},
   "outputs": [
    {
     "data": {
      "text/plain": [
       "TtestResult(statistic=1.463523206885235, pvalue=0.143351972680206, df=11345.066049381952)"
      ]
     },
     "execution_count": 20,
     "metadata": {},
     "output_type": "execute_result"
    }
   ],
   "source": [
    "stats.ttest_ind(a = iphone_drives, b = android_drives, equal_var = False, \n",
    "alternative = 'two-sided')"
   ]
  },
  {
   "cell_type": "markdown",
   "id": "a1994e4a",
   "metadata": {},
   "source": [
    "**Test Result**: Given that the p-value of 14.3% is notably higher than the 5% significance level, I failed to reject the null hypothesis."
   ]
  },
  {
   "cell_type": "markdown",
   "id": "dea554e3",
   "metadata": {},
   "source": [
    "### 4 · Insight and Recommendation"
   ]
  },
  {
   "cell_type": "markdown",
   "id": "d39090c1",
   "metadata": {},
   "source": [
    "**Business Insight**: Based on the conducted test, the key business insight is that there is no statistically significant difference in the average number of rides between clients who use iPhones and those who use Android devices.\n",
    "\n",
    "**Business Recommendation**: *Since the test result revealed no direct correlation between user engagement with the service and the type of device they use, I would recommend exploring various other factors within the context of churn research that may influence the user's ride count and conducting hypothesis tests on them.*"
   ]
  },
  {
   "cell_type": "markdown",
   "id": "93b98f0a",
   "metadata": {},
   "source": [
    "### Acknowledgment"
   ]
  },
  {
   "cell_type": "markdown",
   "id": "7d214a71",
   "metadata": {},
   "source": [
    "I would like to express gratitude to Google and Coursera for supporting the educational process and providing the opportunity to refine and showcase skills acquired during the courses by completing real-life scenario portfolio projects, such as this."
   ]
  },
  {
   "cell_type": "markdown",
   "id": "055bdb29",
   "metadata": {},
   "source": [
    "### Reference"
   ]
  },
  {
   "cell_type": "markdown",
   "id": "53d313ff",
   "metadata": {},
   "source": [
    "This is an end-of-course workplace scenario project *«Waze, created in partnership with the realtime driving directions app»* proposed within the syllabus of *Google Advanced Data Analytics Professional Certificate* on Coursera."
   ]
  }
 ],
 "metadata": {
  "kernelspec": {
   "display_name": "Python 3 (ipykernel)",
   "language": "python",
   "name": "python3"
  },
  "language_info": {
   "codemirror_mode": {
    "name": "ipython",
    "version": 3
   },
   "file_extension": ".py",
   "mimetype": "text/x-python",
   "name": "python",
   "nbconvert_exporter": "python",
   "pygments_lexer": "ipython3",
   "version": "3.11.5"
  }
 },
 "nbformat": 4,
 "nbformat_minor": 5
}
